{
 "cells": [
  {
   "cell_type": "markdown",
   "metadata": {},
   "source": [
    "# Prepare input parameters"
   ]
  },
  {
   "cell_type": "code",
   "execution_count": null,
   "metadata": {
    "pycharm": {
     "is_executing": false
    }
   },
   "outputs": [],
   "source": [
    "from bokeh.plotting import output_notebook\n",
    "from bokeh.plotting import show\n",
    "\n",
    "import geopandas as gpd\n",
    "\n",
    "from shapely.geometry import Point\n",
    "from shapely.ops import linemerge\n",
    "\n",
    "from easy_map_bokeh import EasyMapBokeh\n",
    "\n",
    "from osmgt import OsmGt\n",
    "\n",
    "from graph_tool.topology import shortest_path\n",
    "\n",
    "\n",
    "output_notebook()\n",
    "\n",
    "\n",
    "location = \"Roanne\"\n"
   ]
  },
  {
   "cell_type": "markdown",
   "metadata": {},
   "source": [
    "# Get POIs"
   ]
  },
  {
   "cell_type": "code",
   "execution_count": null,
   "metadata": {
    "pycharm": {
     "is_executing": false
    }
   },
   "outputs": [],
   "source": [
    "%%time\n",
    "\n",
    "poi_from_location = OsmGt.poi_from_location(location)\n",
    "poi_from_location_gdf = poi_from_location.get_gdf()"
   ]
  },
  {
   "cell_type": "markdown",
   "metadata": {},
   "source": [
    "# Get Roads"
   ]
  },
  {
   "cell_type": "code",
   "execution_count": null,
   "metadata": {
    "pycharm": {
     "is_executing": false
    }
   },
   "outputs": [],
   "source": [
    "%%time\n",
    "roads_from_location = OsmGt.roads_from_location(location, mode=\"vehicle\", additionnal_nodes=poi_from_location_gdf)\n",
    "roads_from_location_gdf = roads_from_location.get_gdf()"
   ]
  },
  {
   "cell_type": "markdown",
   "metadata": {},
   "source": [
    "# Plot Data"
   ]
  },
  {
   "cell_type": "code",
   "execution_count": null,
   "metadata": {},
   "outputs": [],
   "source": [
    "# apply colors based on topology field\n",
    "roads_from_location_gdf = roads_from_location_gdf[[\"topo_uuid\", \"id\", \"topology\", \"geometry\"]]\n",
    "\n",
    "roads_gdf_unchanged = roads_from_location_gdf.loc[roads_from_location_gdf[\"topology\"] == \"unchanged\"]\n",
    "roads_gdf_added = roads_from_location_gdf.loc[roads_from_location_gdf[\"topology\"] == \"added\"]\n",
    "roads_gdf_split = roads_from_location_gdf.loc[roads_from_location_gdf[\"topology\"] == \"split\"]\n",
    "\n",
    "poi_from_location_gdf = poi_from_location_gdf[[\"topo_uuid\", \"id\", \"geometry\"]]\n",
    "\n",
    "\n",
    "# node added on the graph\n",
    "columns_without_geometry = roads_gdf_added.columns.tolist()\n",
    "columns_without_geometry.remove(\"geometry\")\n",
    "node_added_on_the_graph = roads_gdf_added.copy(deep=True)\n",
    "node_added_on_the_graph[\"geometry\"] = node_added_on_the_graph[\"geometry\"].apply(lambda x: Point(x.coords[-1]))\n",
    "node_added_on_the_graph = node_added_on_the_graph[[\"topo_uuid\", \"id\", \"geometry\"]]\n",
    "\n",
    "#line split segments limits\n",
    "columns_without_geometry = roads_gdf_split.columns.tolist()\n",
    "columns_without_geometry.remove(\"geometry\")\n",
    "line_split_segments_limits = roads_gdf_split.copy(deep=True)\n",
    "line_split_segments_limits[\"geometry\"] = line_split_segments_limits[\"geometry\"].apply(lambda x: [[Point(f) for f in x.coords][0], [Point(f) for f in x.coords][-1]])\n",
    "line_split_segments_limits.set_index(columns_without_geometry, inplace=True)\n",
    "line_split_segments_limits = line_split_segments_limits[\"geometry\"].explode().reset_index()\n",
    "line_split_segments_limits = line_split_segments_limits[[\"topo_uuid\", \"id\", \"geometry\"]]\n",
    "line_split_segments_limits = gpd.GeoDataFrame(line_split_segments_limits, geometry='geometry', crs=\"EPSG:4326\")\n",
    "\n",
    "\n",
    "layers_to_add = [\n",
    "    {\n",
    "        \"input_gdf\": roads_gdf_unchanged,\n",
    "        \"legend\": \"roads unchanged\",\n",
    "        \"color\": \"black\",\n",
    "    },\n",
    "    {\n",
    "        \"input_gdf\": roads_gdf_added,\n",
    "        \"legend\": \"roads added\",\n",
    "        \"color\": \"green\",\n",
    "    },\n",
    "    {\n",
    "        \"input_gdf\": roads_gdf_split,\n",
    "        \"legend\": \"roads split\",\n",
    "        \"color\": \"orange\",\n",
    "    },\n",
    "    {\n",
    "        \"input_gdf\": poi_from_location_gdf,\n",
    "        \"legend\": \"POIs\",\n",
    "        \"style\": \"square\",\n",
    "        \"fill_color\": \"blue\",\n",
    "        \"size\": 9\n",
    "    },\n",
    "    {\n",
    "        \"input_gdf\": line_split_segments_limits,\n",
    "        \"legend\": \"roads split nodes\",\n",
    "        \"fill_color\": \"brown\",\n",
    "        \"style\": \"circle\",\n",
    "        \"size\": 9\n",
    "    },\n",
    "    {\n",
    "        \"input_gdf\": node_added_on_the_graph,\n",
    "        \"legend\": \"Nodes added\",\n",
    "        \"fill_color\": \"red\",\n",
    "    },\n",
    "\n",
    "]\n",
    "\n",
    "my_map = EasyMapBokeh(\n",
    "    \"My roads and POIs\",\n",
    "    layers=layers_to_add\n",
    ")\n",
    "show(my_map.figure)"
   ]
  },
  {
   "cell_type": "markdown",
   "metadata": {},
   "source": [
    "# Get network and display it"
   ]
  },
  {
   "cell_type": "code",
   "execution_count": null,
   "metadata": {
    "pycharm": {
     "name": "#%%\n"
    }
   },
   "outputs": [],
   "source": [
    "%%time\n",
    "graph = roads_from_location.get_graph()\n",
    "\n",
    "graph.plot()\n"
   ]
  },
  {
   "cell_type": "markdown",
   "metadata": {
    "pycharm": {
     "name": "#%% md\n"
    }
   },
   "source": [
    "# Try a shortest path and display it"
   ]
  },
  {
   "cell_type": "code",
   "execution_count": null,
   "metadata": {
    "pycharm": {
     "name": "#%%\n"
    }
   },
   "outputs": [],
   "source": [
    "%%time\n",
    "# now, we have to define a start point and a end point and get their wkt\n",
    "start_node_topo_uuid = 47\n",
    "end_node_topo_uuid = 63\n",
    "\n",
    "# 'topo_uuid' is generated by osmgt (during the topology processing).\n",
    "# Some roads has been split that's whyso this id has been created.\n",
    "start_node_wkt = poi_from_location_gdf[poi_from_location_gdf['topo_uuid'] == start_node_topo_uuid].iloc[0][\"geometry\"].wkt\n",
    "end_node_wkt = poi_from_location_gdf[poi_from_location_gdf['topo_uuid'] == end_node_topo_uuid].iloc[0][\"geometry\"].wkt\n",
    "\n",
    "# the graph have some methods (graph-tools method always exists!) to find egdes, vertices... Let's use the .find_vertex_from_name(). the wkt is the vertex name...\n",
    "source_vertex = graph.find_vertex_from_name(start_node_wkt)\n",
    "target_vertex = graph.find_vertex_from_name(end_node_wkt)\n",
    "\n",
    "# shortest path computing...\n",
    "path_vertices, path_edges = shortest_path(\n",
    "    graph,\n",
    "    source=source_vertex,\n",
    "    target=target_vertex,\n",
    "    weights=graph.edge_weights  # weigth is based on line length\n",
    ")\n",
    "\n",
    "# get path by using edge names\n",
    "roads_ids = [\n",
    "    graph.edge_names[edge]\n",
    "    for edge in path_edges\n",
    "]\n",
    "\n",
    "roads_gdf_copy = roads_from_location_gdf.copy(deep=True)\n",
    "shortest_path_found = roads_gdf_copy[roads_from_location_gdf['topo_uuid'].isin(roads_ids)].to_crs(3857)['geometry'].to_list()\n",
    "shortest_path_found_gdf = gpd.GeoDataFrame(index=[0], crs=\"EPSG:3857\", geometry=[linemerge(shortest_path_found)])\n",
    "\n",
    "layers_to_add = [\n",
    "    {\n",
    "        \"input_gdf\": shortest_path_found_gdf,\n",
    "        \"legend\": \"shortest_path\",\n",
    "        \"color\": \"red\",\n",
    "        \"line_width\": 5\n",
    "    },\n",
    "]\n",
    "\n",
    "my_shortest_path_map = EasyMapBokeh(\n",
    "    \"My shortest path\",\n",
    "    layers=layers_to_add\n",
    ")\n",
    "show(my_shortest_path_map.figure)"
   ]
  }
 ],
 "metadata": {
  "kernelspec": {
   "display_name": "Python 3",
   "language": "python",
   "name": "python3"
  },
  "language_info": {
   "codemirror_mode": {
    "name": "ipython",
    "version": 3
   },
   "file_extension": ".py",
   "mimetype": "text/x-python",
   "name": "python",
   "nbconvert_exporter": "python",
   "pygments_lexer": "ipython3",
   "version": "3.8.5"
  }
 },
 "nbformat": 4,
 "nbformat_minor": 1
}
