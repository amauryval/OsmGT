{
 "cells": [
  {
   "cell_type": "markdown",
   "metadata": {},
   "source": [
    "# OsmGt example"
   ]
  },
  {
   "cell_type": "markdown",
   "metadata": {},
   "source": [
    "## Imports and prepare input parameters"
   ]
  },
  {
   "cell_type": "code",
   "execution_count": null,
   "metadata": {
    "pycharm": {
     "is_executing": false
    }
   },
   "outputs": [],
   "source": [
    "from IPython.display import display\n",
    "\n",
    "from bokeh.plotting import output_notebook\n",
    "from bokeh.plotting import show\n",
    "\n",
    "import geopandas as gpd\n",
    "\n",
    "from shapely.geometry import Point\n",
    "from shapely.ops import linemerge\n",
    "\n",
    "from easy_map_bokeh import EasyMapBokeh\n",
    "\n",
    "from osmgt import OsmGt\n",
    "\n",
    "from graph_tool.topology import shortest_path\n",
    "\n",
    "\n",
    "output_notebook()\n",
    "\n",
    "\n",
    "location = \"Roanne\"\n"
   ]
  },
  {
   "cell_type": "markdown",
   "metadata": {},
   "source": [
    "## Get POIs"
   ]
  },
  {
   "cell_type": "code",
   "execution_count": null,
   "metadata": {
    "pycharm": {
     "is_executing": false
    }
   },
   "outputs": [],
   "source": [
    "%%time\n",
    "\n",
    "pois_gdf = OsmGt.pois_from_location(location).get_gdf()\n",
    "\n",
    "display(pois_gdf.head(2))"
   ]
  },
  {
   "cell_type": "markdown",
   "metadata": {},
   "source": [
    "## Get Roads"
   ]
  },
  {
   "cell_type": "code",
   "execution_count": null,
   "metadata": {
    "pycharm": {
     "is_executing": false
    }
   },
   "outputs": [],
   "source": [
    "%%time\n",
    "roads_initialized = OsmGt.roads_from_location(\n",
    "    location,\n",
    "    mode=\"vehicle\",\n",
    "    additional_nodes=pois_gdf\n",
    ")\n",
    "roads_gdf = roads_initialized.get_gdf()\n",
    "\n",
    "display(roads_gdf.head(2))"
   ]
  },
  {
   "cell_type": "markdown",
   "metadata": {},
   "source": [
    "## Display roads and nodes"
   ]
  },
  {
   "cell_type": "code",
   "execution_count": null,
   "metadata": {},
   "outputs": [],
   "source": [
    "%%time\n",
    "layers_to_add = [\n",
    "    {\n",
    "        \"input_gdf\": roads_gdf,\n",
    "        \"legend\": \"roads\",\n",
    "        \"color\": \"black\",\n",
    "    },\n",
    "    {\n",
    "        \"input_gdf\": pois_gdf,\n",
    "        \"legend\": \"POIs\",\n",
    "        \"style\": \"square\",\n",
    "        \"color\": \"blue\",\n",
    "        \"size\": 9\n",
    "    },\n",
    "]\n",
    "\n",
    "my_map = EasyMapBokeh(\n",
    "    \"My roads and POIs\",\n",
    "    layers=layers_to_add\n",
    ")\n",
    "show(my_map.figure)"
   ]
  },
  {
   "cell_type": "markdown",
   "metadata": {},
   "source": [
    "## Check topology details"
   ]
  },
  {
   "cell_type": "code",
   "execution_count": null,
   "metadata": {},
   "outputs": [],
   "source": [
    "%%time\n",
    "\n",
    "roads_topology_gdfs = roads_initialized.topology_checker()\n",
    "\n",
    "lines_unchanged = roads_topology_gdfs[\"lines_unchanged\"]\n",
    "lines_added = roads_topology_gdfs[\"lines_added\"]\n",
    "lines_split = roads_topology_gdfs[\"lines_split\"]\n",
    "nodes_added = roads_topology_gdfs[\"nodes_added\"]\n",
    "intersections_added = roads_topology_gdfs[\"intersections_added\"]\n",
    "\n",
    "layers_to_add = [\n",
    "    {\n",
    "        \"input_gdf\": lines_unchanged,\n",
    "        \"legend\": \"roads unchanged\",\n",
    "        \"color\": \"black\",\n",
    "    },\n",
    "    {\n",
    "        \"input_gdf\": lines_added,\n",
    "        \"legend\": \"roads added\",\n",
    "        \"color\": \"green\",\n",
    "    },\n",
    "    {\n",
    "        \"input_gdf\": lines_split,\n",
    "        \"legend\": \"roads split\",\n",
    "        \"color\": \"orange\",\n",
    "    },\n",
    "    {\n",
    "        \"input_gdf\": intersections_added,\n",
    "        \"legend\": \"Intersections added\",\n",
    "        \"color\": \"brown\",\n",
    "    },\n",
    "    {\n",
    "        \"input_gdf\": nodes_added,\n",
    "        \"legend\": \"Nodes added\",  # POIs here\n",
    "        \"style\": \"square\",\n",
    "        \"color\": \"blue\",\n",
    "        \"size\": 9\n",
    "    },\n",
    "]\n",
    "\n",
    "my_map = EasyMapBokeh(\n",
    "    \"Topology about my roads and POIs\",\n",
    "    layers=layers_to_add\n",
    ")\n",
    "show(my_map.figure)"
   ]
  },
  {
   "cell_type": "markdown",
   "metadata": {},
   "source": [
    "## Get the graph-tool network and display it"
   ]
  },
  {
   "cell_type": "code",
   "execution_count": null,
   "metadata": {
    "pycharm": {
     "name": "#%%\n"
    }
   },
   "outputs": [],
   "source": [
    "%%time\n",
    "graph = roads_initialized.get_graph()\n",
    "\n",
    "# a plot method has been added on OsmGT.\n",
    "graph.plot()"
   ]
  },
  {
   "cell_type": "markdown",
   "metadata": {},
   "source": [
    "## Compute a shortest path "
   ]
  },
  {
   "cell_type": "markdown",
   "metadata": {},
   "source": [
    "### With graph-tools function"
   ]
  },
  {
   "cell_type": "code",
   "execution_count": null,
   "metadata": {
    "pycharm": {
     "name": "#%%\n"
    }
   },
   "outputs": [],
   "source": [
    "%%time\n",
    "# now, we have to define a start point and a end point and get their wkt\n",
    "start_node_topo_uuid = 47\n",
    "end_node_topo_uuid = 63\n",
    "\n",
    "# 'topo_uuid' is generated by osmgt (during the topology processing).\n",
    "# Some roads has been split that's whyso this id has been created.\n",
    "start_node_gdf = pois_gdf[pois_gdf['topo_uuid'] == start_node_topo_uuid]\n",
    "end_node_gdf = pois_gdf[pois_gdf['topo_uuid'] == end_node_topo_uuid]\n",
    "\n",
    "start_node_wkt = start_node_gdf.iloc[0][\"geometry\"].wkt\n",
    "end_node_wkt = end_node_gdf.iloc[0][\"geometry\"].wkt\n",
    "\n",
    "# the graph have some methods (graph-tools method always exists!) to find egdes, vertices... Let's use the .find_vertex_from_name(). the wkt is the vertex name...\n",
    "source_vertex = graph.find_vertex_from_name(start_node_wkt)\n",
    "target_vertex = graph.find_vertex_from_name(end_node_wkt)\n",
    "\n",
    "# shortest path computing...\n",
    "path_vertices, path_edges = shortest_path(\n",
    "    graph,\n",
    "    source=source_vertex,\n",
    "    target=target_vertex,\n",
    "    weights=graph.edge_weights  # weigth is based on line length\n",
    ")\n",
    "\n",
    "# get path by using edge names\n",
    "roads_ids = [\n",
    "    graph.edge_names[edge]\n",
    "    for edge in path_edges\n",
    "]\n",
    "\n",
    "roads_gdf_copy = roads_gdf.copy(deep=True)\n",
    "shortest_path_found = roads_gdf_copy[roads_gdf['topo_uuid'].isin(roads_ids)].to_crs(3857)['geometry'].to_list()\n",
    "shortest_path_found_gdf = gpd.GeoDataFrame(index=[0], crs=\"EPSG:3857\", geometry=[linemerge(shortest_path_found)])\n",
    "\n",
    "layers_to_add = [\n",
    "    {\n",
    "        \"input_gdf\": shortest_path_found_gdf,\n",
    "        \"legend\": \"shortest_path\",\n",
    "        \"color\": \"red\",\n",
    "        \"line_width\": 5\n",
    "    },\n",
    "    {\n",
    "        \"input_gdf\": start_node_gdf,\n",
    "        \"legend\": \"source node\",\n",
    "        \"color\": \"blue\",\n",
    "        \"style\": \"circle\",\n",
    "        \"size\": 9\n",
    "    },\n",
    "    {\n",
    "        \"input_gdf\": end_node_gdf,\n",
    "        \"legend\": \"target node\",\n",
    "        \"color\": \"green\",\n",
    "        \"style\": \"circle\",\n",
    "        \"size\": 9\n",
    "    },\n",
    "]\n",
    "\n",
    "my_shortest_path_map = EasyMapBokeh(\n",
    "    \"My shortest path 1\",\n",
    "    layers=layers_to_add\n",
    ")\n",
    "show(my_shortest_path_map.figure)"
   ]
  },
  {
   "cell_type": "markdown",
   "metadata": {},
   "source": [
    "### With OsmGt function"
   ]
  },
  {
   "cell_type": "code",
   "execution_count": null,
   "metadata": {},
   "outputs": [],
   "source": [
    "%%time\n",
    "\n",
    "start_node_topo_uuid = 47\n",
    "end_node_topo_uuid = 63\n",
    "\n",
    "start_node_gdf = pois_gdf[pois_gdf['topo_uuid'] == start_node_topo_uuid]\n",
    "end_node_gdf = pois_gdf[pois_gdf['topo_uuid'] == end_node_topo_uuid]\n",
    "\n",
    "start_node = start_node_gdf.iloc[0][\"geometry\"]\n",
    "end_node = end_node_gdf.iloc[0][\"geometry\"]\n",
    "\n",
    "shortest_paths = OsmGt.shortest_path_from_location(\n",
    "    \"Roanne\",\n",
    "    [\n",
    "        (start_node, end_node),\n",
    "        (start_node, end_node),  # duplicate pairs are cleaned\n",
    "    ],\n",
    "    mode=\"pedestrian\"\n",
    ")\n",
    "layers_to_add = [\n",
    "    {\n",
    "        \"input_gdf\": shortest_paths[[\"geometry\"]],\n",
    "        \"legend\": \"shortest_path\",\n",
    "        \"color\": \"red\",\n",
    "        \"line_width\": 5\n",
    "    },\n",
    "    {\n",
    "        \"input_gdf\": start_node_gdf,\n",
    "        \"legend\": \"source node\",\n",
    "        \"color\": \"blue\",\n",
    "        \"style\": \"circle\",\n",
    "        \"size\": 9\n",
    "    },\n",
    "    {\n",
    "        \"input_gdf\": end_node_gdf,\n",
    "        \"legend\": \"target node\",\n",
    "        \"color\": \"green\",\n",
    "        \"style\": \"circle\",\n",
    "        \"size\": 9\n",
    "    },\n",
    "]\n",
    "\n",
    "my_shortest_path_map = EasyMapBokeh(\n",
    "    \"My shortest path 2\",\n",
    "    layers=layers_to_add\n",
    ")\n",
    "show(my_shortest_path_map.figure)\n",
    "\n",
    "display(shortest_paths)"
   ]
  },
  {
   "cell_type": "markdown",
   "metadata": {},
   "source": [
    "## Compute an isochrone"
   ]
  },
  {
   "cell_type": "markdown",
   "metadata": {},
   "source": [
    "### Isochrone from times"
   ]
  },
  {
   "cell_type": "code",
   "execution_count": null,
   "metadata": {},
   "outputs": [],
   "source": [
    "%%time\n",
    "\n",
    "start_node_topo_uuid = 47\n",
    "source_node = pois_gdf[pois_gdf['topo_uuid'] == start_node_topo_uuid]\n",
    "\n",
    "# 2 = 2 min ; 5 = 5 min ; 10 = 10 min\n",
    "isochrones_polygon_values = {\n",
    "    2: \"#d9ef8b\",\n",
    "    5: \"#fee08b\",\n",
    "    10: \"#f46d43\"\n",
    "}\n",
    "\n",
    "isochrones_lines_values = {\n",
    "    2: \"#668100\",\n",
    "    5: \"#e2a803\",\n",
    "    10: \"#962603\"\n",
    "}\n",
    "\n",
    "trip_speed = 3  # km/h\n",
    "\n",
    "location_point = source_node.iloc[0][\"geometry\"]\n",
    "isochrones_polygons, isochrones_lines = OsmGt.isochrone_from_source_node(\n",
    "    location_point,\n",
    "    list(isochrones_polygon_values.keys()),\n",
    "    trip_speed,\n",
    "    mode=\"pedestrian\"\n",
    ")\n",
    "\n",
    "isochrones_polygons[\"color\"] = isochrones_polygons[\"iso_name\"].map(lambda x: isochrones_polygon_values[x])\n",
    "isochrones_lines[\"color\"] = isochrones_lines[\"iso_name\"].map(lambda x: isochrones_lines_values[x])\n",
    "\n",
    "\n",
    "layers_to_add = [\n",
    "    {\n",
    "        \"input_gdf\": isochrones_polygons,\n",
    "        \"legend\": \"iso_name\",\n",
    "        \"fill_color\": \"color\",\n",
    "        \"line_color\": \"color\",\n",
    "        \"fill_alpha\": 0.5\n",
    "    },\n",
    "    {\n",
    "        \"input_gdf\": source_node,\n",
    "        \"legend\": \"Source node\",\n",
    "        \"style\": \"circle\",\n",
    "        \"color\": \"red\",\n",
    "        \"size\": 5\n",
    "    },\n",
    "    {\n",
    "        \"input_gdf\": isochrones_lines,\n",
    "        \"legend\": \"iso_name\",\n",
    "        \"color\": \"color\",\n",
    "        \"line_width\": 2\n",
    "    },\n",
    "]\n",
    "\n",
    "my_shortest_path_map = EasyMapBokeh(\n",
    "    \"Isochrones from times\",\n",
    "    layers=layers_to_add\n",
    ")\n",
    "show(my_shortest_path_map.figure)\n",
    "\n",
    "print(\"\\nIsochrones polygons output\")\n",
    "display(isochrones_polygons)\n",
    "\n",
    "print(\"\\nIsochrones lines output\")\n",
    "display(isochrones_lines.head(2))\n"
   ]
  },
  {
   "cell_type": "markdown",
   "metadata": {
    "pycharm": {
     "name": "#%% md\n"
    }
   },
   "source": [
    "### Isochrone from distances"
   ]
  },
  {
   "cell_type": "code",
   "execution_count": null,
   "metadata": {
    "pycharm": {
     "name": "#%%\n"
    }
   },
   "outputs": [],
   "source": [
    "%%time\n",
    "start_node_topo_uuid = 47\n",
    "source_node = pois_gdf[pois_gdf['topo_uuid'] == start_node_topo_uuid]\n",
    "\n",
    "trip_speed = 3  # km/h\n",
    "\n",
    "isochrones_polygon_values = {\n",
    "    500: \"#d9ef8b\",\n",
    "    750: \"#fee08b\",\n",
    "    1000: \"#f46d43\"\n",
    "}\n",
    "# 2 = 2 min ; 5 = 5 min ; 10 = 10 min\n",
    "\n",
    "\n",
    "isochrones_lines_values = {\n",
    "    500: \"#668100\",\n",
    "    750: \"#e2a803\",\n",
    "    1000: \"#962603\"\n",
    "}\n",
    "\n",
    "location_point = source_node.iloc[0][\"geometry\"]\n",
    "isochrones_polygons, isochrones_lines = OsmGt.isochrone_distance_from_source_node(\n",
    "    location_point,\n",
    "    list(isochrones_polygon_values.keys()),  # meters\n",
    "    trip_speed,\n",
    "    mode=\"pedestrian\"\n",
    ")\n",
    "\n",
    "isochrones_polygons[\"color\"] = isochrones_polygons[\"iso_distance\"].map(lambda x: isochrones_polygon_values[x])\n",
    "isochrones_lines[\"color\"] = isochrones_lines[\"iso_distance\"].map(lambda x: isochrones_lines_values[x])\n",
    "\n",
    "\n",
    "layers_to_add = [\n",
    "    {\n",
    "        \"input_gdf\": isochrones_polygons,\n",
    "        \"legend\": \"iso_distance\",\n",
    "        \"fill_color\": \"color\",\n",
    "        \"line_color\": \"color\",\n",
    "        \"fill_alpha\": 0.5\n",
    "    },\n",
    "    {\n",
    "        \"input_gdf\": isochrones_lines,\n",
    "        \"legend\": \"iso_distance\",\n",
    "        \"color\": \"color\",\n",
    "        \"line_width\": 2\n",
    "    },\n",
    "    {\n",
    "        \"input_gdf\": source_node,\n",
    "        \"legend\": \"Source node\",\n",
    "        \"style\": \"circle\",\n",
    "        \"color\": \"orange\",\n",
    "        \"size\": 15\n",
    "    },\n",
    "]\n",
    "\n",
    "my_shortest_path_map = EasyMapBokeh(\n",
    "    \"Isochrones from distance\",\n",
    "    layers=layers_to_add\n",
    ")\n",
    "show(my_shortest_path_map.figure)\n"
   ]
  },
  {
   "cell_type": "markdown",
   "metadata": {},
   "source": [
    "### Isochrone style"
   ]
  },
  {
   "cell_type": "code",
   "execution_count": null,
   "metadata": {
    "pycharm": {
     "name": "#%%\n"
    }
   },
   "outputs": [],
   "source": [
    "%%time\n",
    "\n",
    "# we can change the isochrone style\n",
    "\n",
    "start_node_topo_uuid = 47\n",
    "source_node = pois_gdf[pois_gdf['topo_uuid'] == start_node_topo_uuid]\n",
    "\n",
    "# 2 = 2 min ; 5 = 5 min ; 10 = 10 min\n",
    "isochrones_polygon_values = {\n",
    "    2: \"#d9d9d9\",\n",
    "    5: \"#969696\",\n",
    "    10: \"#525252\"\n",
    "}\n",
    "\n",
    "isochrones_lines_values = {\n",
    "    2: \"#bdbdbd\",\n",
    "    5: \"#737373\",\n",
    "    10: \"#252525\"\n",
    "}\n",
    "\n",
    "trip_speed = 3  # km/h\n",
    "\n",
    "location_point = source_node.iloc[0][\"geometry\"]\n",
    "isochrones_polygons, isochrones_lines = OsmGt.isochrone_from_source_node(\n",
    "    location_point,\n",
    "    list(isochrones_polygon_values.keys()),\n",
    "    trip_speed,\n",
    "    mode=\"pedestrian\",\n",
    "    display_mode=\"web\"  # HERE you can change the style (orthogonal by default, or web)\n",
    ")\n",
    "\n",
    "isochrones_polygons[\"color\"] = isochrones_polygons[\"iso_name\"].map(lambda x: isochrones_polygon_values[x])\n",
    "isochrones_lines[\"color\"] = isochrones_lines[\"iso_name\"].map(lambda x: isochrones_lines_values[x])\n",
    "\n",
    "\n",
    "layers_to_add = [\n",
    "    {\n",
    "        \"input_gdf\": isochrones_polygons,\n",
    "        \"legend\": \"iso_name\",\n",
    "        \"fill_color\": \"color\",\n",
    "        \"line_color\": \"color\",\n",
    "        \"fill_alpha\": 0.5\n",
    "    },\n",
    "    {\n",
    "        \"input_gdf\": source_node,\n",
    "        \"legend\": \"Source node\",\n",
    "        \"style\": \"circle\",\n",
    "        \"color\": \"red\",\n",
    "        \"size\": 5\n",
    "    },\n",
    "    {\n",
    "        \"input_gdf\": isochrones_lines,\n",
    "        \"legend\": \"iso_name\",\n",
    "        \"color\": \"color\",\n",
    "        \"line_width\": 2\n",
    "    },\n",
    "]\n",
    "\n",
    "my_shortest_path_map = EasyMapBokeh(\n",
    "    \"Isochrones from times\",\n",
    "    layers=layers_to_add\n",
    ")\n",
    "show(my_shortest_path_map.figure)\n",
    "\n",
    "print(\"\\nIsochrones polygons output\")\n",
    "display(isochrones_polygons)\n",
    "\n",
    "print(\"\\nIsochrones lines output\")\n",
    "display(isochrones_lines.head(2))"
   ]
  }
 ],
 "metadata": {
  "kernelspec": {
   "display_name": "Python 3",
   "language": "python",
   "name": "python3"
  },
  "language_info": {
   "codemirror_mode": {
    "name": "ipython",
    "version": 3
   },
   "file_extension": ".py",
   "mimetype": "text/x-python",
   "name": "python",
   "nbconvert_exporter": "python",
   "pygments_lexer": "ipython3",
   "version": "3.8.5"
  }
 },
 "nbformat": 4,
 "nbformat_minor": 1
}