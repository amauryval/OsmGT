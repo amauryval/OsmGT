{
 "cells": [
  {
   "cell_type": "code",
   "execution_count": null,
   "metadata": {
    "collapsed": true
   },
   "outputs": [],
   "source": [
    "from graph_tool.all import graph_draw \n",
    "\n",
    "from osmgt import OsmGt\n",
    "\n",
    "\n",
    "# build the graph\n",
    "graph = OsmGt.get_graph_from_location(\"Roanne\")\n",
    "\n",
    "pos = draw.sfdp_layout(graph)\n",
    "graph_draw(graph, pos=pos, output=\"output.svg\")"
   ]
  }
 ],
 "metadata": {
  "kernelspec": {
   "display_name": "Python 3",
   "language": "python",
   "name": "python3"
  },
  "language_info": {
   "codemirror_mode": {
    "name": "ipython",
    "version": 2
   },
   "file_extension": ".py",
   "mimetype": "text/x-python",
   "name": "python",
   "nbconvert_exporter": "python",
   "pygments_lexer": "ipython2",
   "version": "2.7.6"
  },
  "pycharm": {
   "stem_cell": {
    "cell_type": "raw",
    "source": [],
    "metadata": {
     "collapsed": false
    }
   }
  }
 },
 "nbformat": 4,
 "nbformat_minor": 0
}